{
 "cells": [
  {
   "cell_type": "code",
   "execution_count": 5,
   "id": "1a3c5e88",
   "metadata": {},
   "outputs": [
    {
     "name": "stdout",
     "output_type": "stream",
     "text": [
      "50\n"
     ]
    }
   ],
   "source": [
    "# Suma\n",
    "cantidad_de_manzanas = 20\n",
    "cantidad_de_naranjas = 30\n",
    "cantidad_de_frutas = cantidad_de_manzanas + cantidad_de_naranjas\n",
    "print(cantidad_de_frutas)"
   ]
  },
  {
   "cell_type": "code",
   "execution_count": 6,
   "id": "4e3fc24e",
   "metadata": {},
   "outputs": [
    {
     "name": "stdout",
     "output_type": "stream",
     "text": [
      "40\n"
     ]
    }
   ],
   "source": [
    "# Resta\n",
    "frutas_vendidas = 10\n",
    "frutas_restantes = cantidad_de_frutas - frutas_vendidas\n",
    "print(frutas_restantes)"
   ]
  },
  {
   "cell_type": "code",
   "execution_count": 7,
   "id": "d602b811",
   "metadata": {},
   "outputs": [
    {
     "name": "stdout",
     "output_type": "stream",
     "text": [
      "Hola. Me llamo Camila Torres. Mucho gusto.\n"
     ]
    }
   ],
   "source": [
    "nombre = 'Camila'\n",
    "apellido = 'Torres'\n",
    "print(f\"Hola. Me llamo {nombre} {apellido}. Mucho gusto.\")"
   ]
  },
  {
   "cell_type": "code",
   "execution_count": 8,
   "id": "bbd29f74",
   "metadata": {},
   "outputs": [
    {
     "name": "stdout",
     "output_type": "stream",
     "text": [
      "3 + 2 = 5\n"
     ]
    }
   ],
   "source": [
    "numero_0 = int(input(\"Ingrese un numero\"))\n",
    "numero_1 = int(input(\"Ingrese un numero\"))\n",
    "\n",
    "print(f\"{numero_0} + {numero_1} = {numero_0 + numero_1}\")"
   ]
  },
  {
   "cell_type": "code",
   "execution_count": 9,
   "id": "e1b874c2",
   "metadata": {},
   "outputs": [
    {
     "name": "stdout",
     "output_type": "stream",
     "text": [
      "Hello World!!!\n",
      "Hello World!!!\n",
      "Hello World!!!\n"
     ]
    }
   ],
   "source": [
    "def say_hello_world():\n",
    "    print(\"Hello World!!!\")\n",
    "\n",
    "say_hello_world()\n",
    "say_hello_world()\n",
    "say_hello_world()"
   ]
  },
  {
   "cell_type": "code",
   "execution_count": null,
   "id": "204f3438",
   "metadata": {},
   "outputs": [],
   "source": []
  }
 ],
 "metadata": {
  "kernelspec": {
   "display_name": ".venv",
   "language": "python",
   "name": "python3"
  },
  "language_info": {
   "codemirror_mode": {
    "name": "ipython",
    "version": 3
   },
   "file_extension": ".py",
   "mimetype": "text/x-python",
   "name": "python",
   "nbconvert_exporter": "python",
   "pygments_lexer": "ipython3",
   "version": "3.12.3"
  }
 },
 "nbformat": 4,
 "nbformat_minor": 5
}
