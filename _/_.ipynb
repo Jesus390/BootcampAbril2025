{
 "cells": [
  {
   "cell_type": "markdown",
   "id": "b9df970b-6cc1-459f-841c-68a06cbf5dc9",
   "metadata": {},
   "source": [
    "# Guess Game d:-)"
   ]
  },
  {
   "cell_type": "markdown",
   "id": "86fe0c49-8332-490b-8166-561df328bbac",
   "metadata": {},
   "source": [
    "### Datos extras.\n",
    "\n",
    "- Variables globales\n",
    "- Colores\n",
    "- Inicialización de las claves ocultas\n",
    "- Obtención de un valor de clave oculta de forma aleatoria"
   ]
  },
  {
   "cell_type": "code",
   "execution_count": 13,
   "id": "543cbb7a-1947-405f-8949-3ea69e1a04b6",
   "metadata": {},
   "outputs": [],
   "source": [
    "# Variables globales\n",
    "longitud_separador_global = 50"
   ]
  },
  {
   "cell_type": "code",
   "execution_count": 14,
   "id": "feb12353-3ca9-411e-ac14-94c0d214fbf9",
   "metadata": {},
   "outputs": [],
   "source": [
    "# Colores Ansi\n",
    "ansi_color_rojo = \"\\033[0;49;31m\"\n",
    "ansi_color_verde = \"\\033[0;49;32m\"\n",
    "ansi_color_amarillo = \"\\033[0;49;33m\"\n",
    "\n",
    "ansi_bg_rojo = \"\\033[7;49;31m\"\n",
    "ansi_bg_verde = \"\\033[7;49;32m\"\n",
    "ansi_bg_amarillo = \"\\033[7;49;33m\"\n",
    "\n",
    "ansi_end = \"\\033[0m\""
   ]
  },
  {
   "cell_type": "code",
   "execution_count": 15,
   "id": "5b1fab0f-ca68-4ea4-8f6a-38cc5ae0c377",
   "metadata": {},
   "outputs": [],
   "source": [
    "# Lista con las palabras claves\n",
    "palabras_ocultas = ['Playa', 'Manta', 'Vista','Noche','Altar',\n",
    "                  'Silla','Metro','Justo','Caída','Fuego',\n",
    "                  'Tumba','Hongo','Cayos','Arena',]\n",
    "#palabras_ocultas"
   ]
  },
  {
   "cell_type": "code",
   "execution_count": 16,
   "id": "d938da92-026e-4dd1-a0d6-9fd34de16511",
   "metadata": {},
   "outputs": [
    {
     "data": {
      "text/plain": [
       "'METRO'"
      ]
     },
     "execution_count": 16,
     "metadata": {},
     "output_type": "execute_result"
    }
   ],
   "source": [
    "import random as r\n",
    "\n",
    "# obtiene una palabra aleatoria de la lista 'palabras_ocultas'\n",
    "palabra_oculta = palabras_ocultas[r.randint(0, len(palabras_ocultas)-1)].upper()\n",
    "palabra_oculta"
   ]
  },
  {
   "cell_type": "markdown",
   "id": "64314c9e-3905-4246-9687-e42b73160cda",
   "metadata": {},
   "source": [
    "### Funciones."
   ]
  },
  {
   "cell_type": "code",
   "execution_count": 17,
   "id": "f4638c1c-8843-4753-b5d3-a7ce14213ca7",
   "metadata": {},
   "outputs": [],
   "source": [
    "# Crea el cuadro de juego\n",
    "def formato_del_juego(longitud_de_palabra = 5 , cantidad_de_pruebas = 6):\n",
    "    return [[' '] * longitud_de_palabra] * cantidad_de_pruebas"
   ]
  },
  {
   "cell_type": "code",
   "execution_count": 18,
   "id": "314f8bbc-f17b-45de-82e8-f704385e3163",
   "metadata": {},
   "outputs": [],
   "source": [
    "# Crea el cuadro del juego\n",
    "def crear_game(formato):\n",
    "    # formato del separador horizontal\n",
    "    horizontal_separador = \"  +\" + ('-----+' * len(formato[0]) + \"\\n\")\n",
    "\n",
    "    # contenedor_auxiliar: variable auxiliar para\n",
    "    # contener los caracteres que formarán el cuadro\n",
    "    contenedor_auxiliar = horizontal_separador\n",
    "    \n",
    "    for datos in formato:\n",
    "        len_datos = len(datos)\n",
    "        for i, dato in enumerate(datos):\n",
    "            contenedor_auxiliar += \"  |  \" + dato if i<len_datos-1 else \"  |  \" + dato + \"  |\"\n",
    "        contenedor_auxiliar += \"\\n\" + horizontal_separador\n",
    "        \n",
    "    return contenedor_auxiliar"
   ]
  },
  {
   "cell_type": "code",
   "execution_count": 19,
   "id": "af6c67ee",
   "metadata": {},
   "outputs": [],
   "source": [
    "# Actualiza los datos de la fila según el indice\n",
    "def update_datos(formato, indice, palabra):\n",
    "    formato[indice] = palabra\n",
    "    return crear_game(formato)"
   ]
  },
  {
   "cell_type": "code",
   "execution_count": 20,
   "id": "8974260e-c1bc-4596-a590-7fd13ff32655",
   "metadata": {},
   "outputs": [],
   "source": [
    "# Función que solicita una palabra con una longitud dada\n",
    "# al usuario y la retorna\n",
    "def obtener_palabra(longitud_palabra):\n",
    "    while True:\n",
    "        palabra = input(f\"Ingrese una palabra de longitud: {longitud_palabra}: \")\n",
    "        if len(palabra) == longitud_palabra:\n",
    "            return palabra.upper()\n",
    "        print(f\"Error: longitud de palabra esperada {longitud_palabra}.\\n\\\n",
    "        Palabra ingresada: {palabra}, longitud: {len(palabra)}\")"
   ]
  },
  {
   "cell_type": "code",
   "execution_count": 21,
   "id": "c21e6411-cae3-4a7f-bf30-ec5f2369e138",
   "metadata": {},
   "outputs": [],
   "source": [
    "# Procesa la verificación de las palabras ingresada por el \n",
    "# usuario y la palabra oculta seleccionada aleatoriamente\n",
    "def verificar_palabra(palabra_oculta, in_palabra):\n",
    "    \n",
    "    # Variable auxiliar\n",
    "    # Es una lista que contendra el resultado de la verificación\n",
    "    lista_contenedora = [''] * len(palabra_oculta)\n",
    "\n",
    "    # verifica por indice si la letra coincide\n",
    "    for i in range(len(in_palabra)):\n",
    "\n",
    "        # Verifica si la palabra oculta no contiene ninguna letra de la palabra\n",
    "        # ingresada por el usuario\n",
    "        if not in_palabra[i] in palabra_oculta:\n",
    "           lista_contenedora[i] = ansi_bg_rojo + in_palabra[i] + ansi_end\n",
    "        else:\n",
    "            lista_contenedora[i] = ansi_bg_amarillo + in_palabra[i] + ansi_end\n",
    "\n",
    "        \n",
    "        if in_palabra[i] == palabra_oculta[i]:\n",
    "            lista_contenedora[i] = ansi_bg_verde + in_palabra[i] + ansi_end\n",
    "        # else:\n",
    "        #     lista_contenedora[i] = in_palabra[i]\n",
    "            \n",
    "    return lista_contenedora\n",
    "\n",
    "#verificar_palabra(palabra_oculta, obtener_palabra(5))"
   ]
  },
  {
   "cell_type": "markdown",
   "id": "30dd72df-c74f-42c7-b33c-9372b5f36b34",
   "metadata": {},
   "source": [
    "### Game Start"
   ]
  },
  {
   "cell_type": "code",
   "execution_count": 22,
   "id": "6eba16de-f620-408e-8455-67ab83495f06",
   "metadata": {},
   "outputs": [],
   "source": [
    "# Solicita la longitud de caracteres para la cadena\n",
    "# PD.: está información se utiliza para crear el cuadro (filas)\n",
    "#longitud_de_caracteres = int(input(\"Ingrese la longitud de caracteres: \"))\n",
    "longitud_de_caracteres = 5"
   ]
  },
  {
   "cell_type": "code",
   "execution_count": 23,
   "id": "884a62fb-c6be-4c2c-99fe-e5a812c59e4d",
   "metadata": {},
   "outputs": [],
   "source": [
    "# Solicita la cantidad de pruebas a ser realizadas\n",
    "# PD.: está información se utiliza para crear el cuadro (columnas)\n",
    "#cantidad_de_pruebas = int(input(\"Ingrese la cantidad de pruebas: \"))   \n",
    "cantidad_de_pruebas = 6"
   ]
  },
  {
   "cell_type": "code",
   "execution_count": 24,
   "id": "67b06e66-b3c3-493c-b345-84166ed5fcbd",
   "metadata": {},
   "outputs": [
    {
     "name": "stdout",
     "output_type": "stream",
     "text": [
      "\t\tSTART GAME\n",
      "--------------------------------------------------\n",
      "Longitud: 5\n",
      "Cantidad de intentos: 6\n",
      "--------------------------------------------------\n",
      "INFO\n",
      "\u001b[0;49;32mSi la letra existe y está en la posición correcta la letra será de color verde.\u001b[0m\n",
      "\u001b[0;49;33mSi la letra existe y no está en la posición correcta la letra será de color amarilla.\u001b[0m\n",
      "\u001b[0;49;31mSi la letra no existe será de color roja.\u001b[0m\n",
      "  +-----+-----+-----+-----+-----+\n",
      "  |     |     |     |     |     |\n",
      "  +-----+-----+-----+-----+-----+\n",
      "  |     |     |     |     |     |\n",
      "  +-----+-----+-----+-----+-----+\n",
      "  |     |     |     |     |     |\n",
      "  +-----+-----+-----+-----+-----+\n",
      "  |     |     |     |     |     |\n",
      "  +-----+-----+-----+-----+-----+\n",
      "  |     |     |     |     |     |\n",
      "  +-----+-----+-----+-----+-----+\n",
      "  |     |     |     |     |     |\n",
      "  +-----+-----+-----+-----+-----+\n",
      "\n",
      "Palabra oculta: METRO\n",
      "  +-----+-----+-----+-----+-----+\n",
      "  |  \u001b[7;49;31mP\u001b[0m  |  \u001b[7;49;32mE\u001b[0m  |  \u001b[7;49;33mR\u001b[0m  |  \u001b[7;49;31mS\u001b[0m  |  \u001b[7;49;31mU\u001b[0m  |\n",
      "  +-----+-----+-----+-----+-----+\n",
      "  |     |     |     |     |     |\n",
      "  +-----+-----+-----+-----+-----+\n",
      "  |     |     |     |     |     |\n",
      "  +-----+-----+-----+-----+-----+\n",
      "  |     |     |     |     |     |\n",
      "  +-----+-----+-----+-----+-----+\n",
      "  |     |     |     |     |     |\n",
      "  +-----+-----+-----+-----+-----+\n",
      "  |     |     |     |     |     |\n",
      "  +-----+-----+-----+-----+-----+\n",
      "\n",
      "Intentos: 1\n",
      "Palabra oculta: METRO\n",
      "  +-----+-----+-----+-----+-----+\n",
      "  |  \u001b[7;49;31mP\u001b[0m  |  \u001b[7;49;32mE\u001b[0m  |  \u001b[7;49;33mR\u001b[0m  |  \u001b[7;49;31mS\u001b[0m  |  \u001b[7;49;31mU\u001b[0m  |\n",
      "  +-----+-----+-----+-----+-----+\n",
      "  |  \u001b[7;49;32mM\u001b[0m  |  \u001b[7;49;32mE\u001b[0m  |  \u001b[7;49;31mS\u001b[0m  |  \u001b[7;49;33mE\u001b[0m  |  \u001b[7;49;33mR\u001b[0m  |\n",
      "  +-----+-----+-----+-----+-----+\n",
      "  |     |     |     |     |     |\n",
      "  +-----+-----+-----+-----+-----+\n",
      "  |     |     |     |     |     |\n",
      "  +-----+-----+-----+-----+-----+\n",
      "  |     |     |     |     |     |\n",
      "  +-----+-----+-----+-----+-----+\n",
      "  |     |     |     |     |     |\n",
      "  +-----+-----+-----+-----+-----+\n",
      "\n",
      "Intentos: 2\n",
      "Palabra oculta: METRO\n",
      "  +-----+-----+-----+-----+-----+\n",
      "  |  \u001b[7;49;31mP\u001b[0m  |  \u001b[7;49;32mE\u001b[0m  |  \u001b[7;49;33mR\u001b[0m  |  \u001b[7;49;31mS\u001b[0m  |  \u001b[7;49;31mU\u001b[0m  |\n",
      "  +-----+-----+-----+-----+-----+\n",
      "  |  \u001b[7;49;32mM\u001b[0m  |  \u001b[7;49;32mE\u001b[0m  |  \u001b[7;49;31mS\u001b[0m  |  \u001b[7;49;33mE\u001b[0m  |  \u001b[7;49;33mR\u001b[0m  |\n",
      "  +-----+-----+-----+-----+-----+\n",
      "  |  \u001b[7;49;32mM\u001b[0m  |  \u001b[7;49;32mE\u001b[0m  |  \u001b[7;49;33mR\u001b[0m  |  \u001b[7;49;33mT\u001b[0m  |  \u001b[7;49;33mE\u001b[0m  |\n",
      "  +-----+-----+-----+-----+-----+\n",
      "  |     |     |     |     |     |\n",
      "  +-----+-----+-----+-----+-----+\n",
      "  |     |     |     |     |     |\n",
      "  +-----+-----+-----+-----+-----+\n",
      "  |     |     |     |     |     |\n",
      "  +-----+-----+-----+-----+-----+\n",
      "\n",
      "Intentos: 3\n",
      "Palabra oculta: METRO\n",
      "  +-----+-----+-----+-----+-----+\n",
      "  |  \u001b[7;49;31mP\u001b[0m  |  \u001b[7;49;32mE\u001b[0m  |  \u001b[7;49;33mR\u001b[0m  |  \u001b[7;49;31mS\u001b[0m  |  \u001b[7;49;31mU\u001b[0m  |\n",
      "  +-----+-----+-----+-----+-----+\n",
      "  |  \u001b[7;49;32mM\u001b[0m  |  \u001b[7;49;32mE\u001b[0m  |  \u001b[7;49;31mS\u001b[0m  |  \u001b[7;49;33mE\u001b[0m  |  \u001b[7;49;33mR\u001b[0m  |\n",
      "  +-----+-----+-----+-----+-----+\n",
      "  |  \u001b[7;49;32mM\u001b[0m  |  \u001b[7;49;32mE\u001b[0m  |  \u001b[7;49;33mR\u001b[0m  |  \u001b[7;49;33mT\u001b[0m  |  \u001b[7;49;33mE\u001b[0m  |\n",
      "  +-----+-----+-----+-----+-----+\n",
      "  |  \u001b[7;49;32mM\u001b[0m  |  \u001b[7;49;32mE\u001b[0m  |  \u001b[7;49;33mR\u001b[0m  |  \u001b[7;49;33mT\u001b[0m  |  \u001b[7;49;33mE\u001b[0m  |\n",
      "  +-----+-----+-----+-----+-----+\n",
      "  |     |     |     |     |     |\n",
      "  +-----+-----+-----+-----+-----+\n",
      "  |     |     |     |     |     |\n",
      "  +-----+-----+-----+-----+-----+\n",
      "\n",
      "Intentos: 4\n",
      "Palabra oculta: METRO\n",
      "  +-----+-----+-----+-----+-----+\n",
      "  |  \u001b[7;49;31mP\u001b[0m  |  \u001b[7;49;32mE\u001b[0m  |  \u001b[7;49;33mR\u001b[0m  |  \u001b[7;49;31mS\u001b[0m  |  \u001b[7;49;31mU\u001b[0m  |\n",
      "  +-----+-----+-----+-----+-----+\n",
      "  |  \u001b[7;49;32mM\u001b[0m  |  \u001b[7;49;32mE\u001b[0m  |  \u001b[7;49;31mS\u001b[0m  |  \u001b[7;49;33mE\u001b[0m  |  \u001b[7;49;33mR\u001b[0m  |\n",
      "  +-----+-----+-----+-----+-----+\n",
      "  |  \u001b[7;49;32mM\u001b[0m  |  \u001b[7;49;32mE\u001b[0m  |  \u001b[7;49;33mR\u001b[0m  |  \u001b[7;49;33mT\u001b[0m  |  \u001b[7;49;33mE\u001b[0m  |\n",
      "  +-----+-----+-----+-----+-----+\n",
      "  |  \u001b[7;49;32mM\u001b[0m  |  \u001b[7;49;32mE\u001b[0m  |  \u001b[7;49;33mR\u001b[0m  |  \u001b[7;49;33mT\u001b[0m  |  \u001b[7;49;33mE\u001b[0m  |\n",
      "  +-----+-----+-----+-----+-----+\n",
      "  |  \u001b[7;49;32mM\u001b[0m  |  \u001b[7;49;32mE\u001b[0m  |  \u001b[7;49;33mE\u001b[0m  |  \u001b[7;49;32mR\u001b[0m  |  \u001b[7;49;33mT\u001b[0m  |\n",
      "  +-----+-----+-----+-----+-----+\n",
      "  |     |     |     |     |     |\n",
      "  +-----+-----+-----+-----+-----+\n",
      "\n",
      "Intentos: 5\n",
      "Palabra oculta: METRO\n",
      "  +-----+-----+-----+-----+-----+\n",
      "  |  \u001b[7;49;31mP\u001b[0m  |  \u001b[7;49;32mE\u001b[0m  |  \u001b[7;49;33mR\u001b[0m  |  \u001b[7;49;31mS\u001b[0m  |  \u001b[7;49;31mU\u001b[0m  |\n",
      "  +-----+-----+-----+-----+-----+\n",
      "  |  \u001b[7;49;32mM\u001b[0m  |  \u001b[7;49;32mE\u001b[0m  |  \u001b[7;49;31mS\u001b[0m  |  \u001b[7;49;33mE\u001b[0m  |  \u001b[7;49;33mR\u001b[0m  |\n",
      "  +-----+-----+-----+-----+-----+\n",
      "  |  \u001b[7;49;32mM\u001b[0m  |  \u001b[7;49;32mE\u001b[0m  |  \u001b[7;49;33mR\u001b[0m  |  \u001b[7;49;33mT\u001b[0m  |  \u001b[7;49;33mE\u001b[0m  |\n",
      "  +-----+-----+-----+-----+-----+\n",
      "  |  \u001b[7;49;32mM\u001b[0m  |  \u001b[7;49;32mE\u001b[0m  |  \u001b[7;49;33mR\u001b[0m  |  \u001b[7;49;33mT\u001b[0m  |  \u001b[7;49;33mE\u001b[0m  |\n",
      "  +-----+-----+-----+-----+-----+\n",
      "  |  \u001b[7;49;32mM\u001b[0m  |  \u001b[7;49;32mE\u001b[0m  |  \u001b[7;49;33mE\u001b[0m  |  \u001b[7;49;32mR\u001b[0m  |  \u001b[7;49;33mT\u001b[0m  |\n",
      "  +-----+-----+-----+-----+-----+\n",
      "  |  \u001b[7;49;32mM\u001b[0m  |  \u001b[7;49;32mE\u001b[0m  |  \u001b[7;49;32mT\u001b[0m  |  \u001b[7;49;32mR\u001b[0m  |  \u001b[7;49;33mE\u001b[0m  |\n",
      "  +-----+-----+-----+-----+-----+\n",
      "\n",
      "Intentos: 6\n"
     ]
    }
   ],
   "source": [
    "# cantidad_de_intentos: contendra la cantidad de intentos hechos\n",
    "cantidad_de_intentos = 0\n",
    "\n",
    "# Crea la forma del cuadro\n",
    "formato = formato_del_juego(longitud_de_caracteres, cantidad_de_pruebas)\n",
    "\n",
    "# Mensaje para el usuario y el formato del cuadro inicial\n",
    "print(\"\\t\\tSTART GAME\")\n",
    "print(f\"{'-' * longitud_separador_global}\")\n",
    "print(f\"Longitud: {longitud_de_caracteres}\")\n",
    "print(f\"Cantidad de intentos: {cantidad_de_pruebas}\")\n",
    "print(f\"{'-' * longitud_separador_global}\")\n",
    "print(\"INFO\")\n",
    "print(f\"{ansi_color_verde}Si la letra existe y está en la posición correcta la letra será de color verde.{ansi_end}\")\n",
    "print(f\"{ansi_color_amarillo}Si la letra existe y no está en la posición correcta la letra será de color amarilla.{ansi_end}\")\n",
    "print(f\"{ansi_color_rojo}Si la letra no existe será de color roja.{ansi_end}\")\n",
    "print(crear_game(formato))\n",
    "\n",
    "while cantidad_de_intentos < cantidad_de_pruebas:\n",
    "    print(f\"Palabra oculta: {palabra_oculta}\")\n",
    "    \n",
    "    palabra = obtener_palabra(longitud_de_caracteres)\n",
    "\n",
    "    palabra_verificada = verificar_palabra(palabra_oculta, palabra)\n",
    "    \n",
    "    print(update_datos(formato, cantidad_de_intentos, palabra_verificada))\n",
    "        \n",
    "    cantidad_de_intentos += 1\n",
    "    print(f\"Intentos: {cantidad_de_intentos}\")\n",
    "\n",
    "    if palabra_oculta == palabra:\n",
    "        print(f\"{'-' * longitud_separador_global}\")\n",
    "        print(f\"\\t{ansi_bg_verde}Felicidades has ganado.{ansi_end}\")\n",
    "        break"
   ]
  },
  {
   "cell_type": "code",
   "execution_count": 40,
   "id": "63d92f20",
   "metadata": {},
   "outputs": [],
   "source": [
    "palabra = 'parastemonio'\n",
    "\n",
    "def contador_letras(palabra):\n",
    "    letras = {}\n",
    "    for letra in palabra:\n",
    "        if letra in letras:\n",
    "            letras[letra] += 1\n",
    "        else:\n",
    "            letras[letra] = 1\n",
    "\n",
    "    return letras\n",
    "\n",
    "# contador_letras(palabra)"
   ]
  },
  {
   "cell_type": "code",
   "execution_count": null,
   "id": "6a90dbd5",
   "metadata": {},
   "outputs": [
    {
     "name": "stdout",
     "output_type": "stream",
     "text": [
      "p  :  0\n",
      "a  :  -1\n",
      "r  :  0\n",
      "e  :  0\n",
      "t  :  0\n",
      "m  :  0\n",
      "o  :  1\n"
     ]
    }
   ],
   "source": [
    "palabra_original = 'parastemonio'\n",
    "palabra_a_comparar = 'paracetamoll'\n",
    "\n",
    "def verificar_disponibilidad_de_letras(palabra_original, palabra_a_comparar):\n",
    "    \n",
    "    # guarda la cantidad de cada letra en la palabra\n",
    "    cantidad_de_letras_en_la_palabra_original = contador_letras(palabra_original)\n",
    "    cantidad_de_letras_en_la_palabra_a_comparar = contador_letras(palabra_a_comparar)\n",
    "\n",
    "    aux_cantidad_letras = {}\n",
    "    for letra in cantidad_de_letras_en_la_palabra_a_comparar:\n",
    "\n",
    "        # Verifica si la letra esta en la cantidad de palabras\n",
    "        # y que la letra este sea menor a la cantidad de letras\n",
    "        # ingresada por el usuario\n",
    "        if letra in cantidad_de_letras_en_la_palabra_original:\n",
    "            aux_cantidad_letras[letra] =  cantidad_de_letras_en_la_palabra_original[letra] - cantidad_de_letras_en_la_palabra_a_comparar[letra]\n",
    "            print(letra, ' : ', aux_cantidad_letras[letra])\n",
    "\n",
    "verificar_disponibilidad_de_letras(palabra_original, palabra_a_comparar)"
   ]
  },
  {
   "cell_type": "code",
   "execution_count": null,
   "id": "c2ef5374",
   "metadata": {},
   "outputs": [],
   "source": [
    "# Procesa la verificación de las palabras ingresada por el \n",
    "# usuario y la palabra oculta seleccionada aleatoriamente\n",
    "def verificar_palabra_tmp(palabra_oculta, in_palabra):\n",
    "    \n",
    "    # Variable auxiliar\n",
    "    # Es una lista que contendra el resultado de la verificación\n",
    "    lista_contenedora = [''] * len(palabra_oculta)\n",
    "\n",
    "\n",
    "    # verifica por indice si la letra coincide\n",
    "    for i in range(len(in_palabra)):\n",
    "\n",
    "        # Verifica si la palabra oculta no contiene ninguna letra de la palabra\n",
    "        # ingresada por el usuario\n",
    "        if not in_palabra[i] in palabra_oculta:\n",
    "           lista_contenedora[i] = ansi_bg_rojo + in_palabra[i] + ansi_end\n",
    "        else:\n",
    "            lista_contenedora[i] = ansi_bg_amarillo + in_palabra[i] + ansi_end\n",
    "\n",
    "        \n",
    "        if in_palabra[i] == palabra_oculta[i]:\n",
    "            lista_contenedora[i] = ansi_bg_verde + in_palabra[i] + ansi_end\n",
    "        # else:\n",
    "        #     lista_contenedora[i] = in_palabra[i]\n",
    "            \n",
    "    return lista_contenedora"
   ]
  },
  {
   "cell_type": "code",
   "execution_count": 32,
   "id": "2c5c277a",
   "metadata": {},
   "outputs": [
    {
     "name": "stdout",
     "output_type": "stream",
     "text": [
      "\u001b[7;49;31ma\u001b[0m\u001b[7;49;31mv\u001b[0m\u001b[7;49;31mi\u001b[0m\u001b[7;49;33mo\u001b[0m\u001b[7;49;31mn\u001b[0m\n",
      "\u001b[7;49;33mr\u001b[0m\u001b[7;49;33mo\u001b[0m\u001b[7;49;33mm\u001b[0m\u001b[7;49;32mr\u001b[0m\u001b[7;49;33me\u001b[0m\n",
      "\u001b[7;49;32mm\u001b[0m\u001b[7;49;33mo\u001b[0m\u001b[7;49;33mr\u001b[0m\u001b[7;49;33mt\u001b[0m\u001b[7;49;33me\u001b[0m\n",
      "\u001b[7;49;32mm\u001b[0m\u001b[7;49;32me\u001b[0m\u001b[7;49;32mt\u001b[0m\u001b[7;49;32mr\u001b[0m\u001b[7;49;32mo\u001b[0m\n"
     ]
    }
   ],
   "source": [
    "def descartar_letras(palabra_oculta, in_palabra):\n",
    "\n",
    "    for palabra in palabras_ingresadas_por_el_usuario_tmp:\n",
    "        print(''.join(verificar_palabra(palabra_oculta, palabra)))\n",
    "\n",
    "\n",
    "\n",
    "palabra_oculta_tmp = 'metro'\n",
    "palabras_ingresadas_por_el_usuario_tmp = ['avion', 'romre', 'morte', 'metro']\n",
    "\n",
    "descartar_letras(palabra_oculta_tmp, palabras_ingresadas_por_el_usuario_tmp)\n",
    "\n"
   ]
  }
 ],
 "metadata": {
  "kernelspec": {
   "display_name": "_venv",
   "language": "python",
   "name": "python3"
  },
  "language_info": {
   "codemirror_mode": {
    "name": "ipython",
    "version": 3
   },
   "file_extension": ".py",
   "mimetype": "text/x-python",
   "name": "python",
   "nbconvert_exporter": "python",
   "pygments_lexer": "ipython3",
   "version": "3.10.7"
  }
 },
 "nbformat": 4,
 "nbformat_minor": 5
}
